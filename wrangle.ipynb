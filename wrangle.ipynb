{
 "cells": [
  {
   "cell_type": "code",
   "execution_count": 73,
   "id": "abb6d463",
   "metadata": {},
   "outputs": [
    {
     "name": "stdout",
     "output_type": "stream",
     "text": [
      "['#ff24db', '#ff49b6', '#ff6d92', '#ff926d', '#ffb649', '#ffdb24']\n"
     ]
    }
   ],
   "source": [
    "import warnings\n",
    "warnings.filterwarnings(\"ignore\")\n",
    "\n",
    "import pandas as pd\n",
    "import matplotlib.pyplot as plt\n",
    "import seaborn as sns\n",
    "import numpy as np\n",
    "\n",
    "import wrangle\n",
    "\n",
    "#set figure and font size\n",
    "plt.rc('figure', figsize=(11, 9))\n",
    "\n",
    "plt.rc('font', size=13)\n",
    "\n",
    "#set seaborn color pallete\n",
    "sns.set_palette('spring')\n",
    "pal = sns.set_palette('spring')\n",
    "print(sns.color_palette().as_hex())"
   ]
  },
  {
   "cell_type": "markdown",
   "id": "eff0d3f9",
   "metadata": {},
   "source": [
    "# Regression Wrangle Exercises"
   ]
  },
  {
   "cell_type": "markdown",
   "id": "0f52984b",
   "metadata": {},
   "source": [
    "## Exercises I\n",
    "\n",
    "Let's review the steps we take at the beginning of each new module.\n",
    "\n",
    "1. Create a new repository named `regression-exercises` in your GitHub; all of your Regression work will be housed here.\n",
    "1. Clone this repository within your local `codeup-data-science` directory.\n",
    "1. Create a `.gitignore` and make sure your list of 'files to ignore' includes your `env.py` file.\n",
    "1. Ceate a `README.md` file that outlines the contents and purpose of your repository.\n",
    "1. Add, commit, and push these two files.\n",
    "1. Now you can add your `env.py` file to this repository to access the Codeup database server.\n",
    "1. For these exercises, you will create `wrangle.ipynb` and `wrangle.py` files to hold necessary functions.\n",
    "1. As always, add, commit, and push your work often."
   ]
  },
  {
   "cell_type": "markdown",
   "id": "8219dd5a",
   "metadata": {},
   "source": [
    "## Exercises II\n",
    "\n",
    "Let's set up an example scenario as perspective for our regression exercises using the Zillow dataset.\n",
    "\n",
    "As a Codeup data science graduate, you want to show off your skills to the Zillow data science team in hopes of getting an interview for a position you saw pop up on LinkedIn. You thought it might look impressive to build an end-to-end project in which you use some of their Kaggle data to predict property values using some of their available features; who knows, you might even do some feature engineering to blow them away. Your goal is to predict the values of single unit properties using the obervations from 2017.\n",
    "\n",
    "In these exercises, you will complete the first step toward the above goal: acquire and prepare the necessary Zillow data from the zillow database in the Codeup database server."
   ]
  },
  {
   "cell_type": "markdown",
   "id": "1adec44b",
   "metadata": {},
   "source": [
    "## Acquire\n",
    "- [x] Use MySQL to view database and create SQL function required to acquire data requested below.\n",
    "- [X] Save SQL query and add to new_zillow_data function in wrangle.py\n",
    "- [X] Create new_zillow_data function to acquire data from codeup DB using SQL query and credentials from my env file.\n",
    "    - this function will return a df based on the given SQL query\n",
    "- [x] Create function get_ zillow_data to acquire the zillow data and create a CSV\n",
    "- [X] Do some basic univariate exploration of df.  More exploration will be done in Prepare."
   ]
  },
  {
   "cell_type": "markdown",
   "id": "f505a7a4",
   "metadata": {},
   "source": [
    "### EXERCISE ONE: \n",
    "Acquire `bedroomcnt`, `bathroomcnt`, `calculatedfinishedsquarefeet`, `taxvaluedollarcnt`, `yearbuilt`, `taxamount`, and `fips` from the `zillow` database for all 'Single Family Residential' properties."
   ]
  },
  {
   "cell_type": "code",
   "execution_count": 83,
   "id": "854d70ac",
   "metadata": {},
   "outputs": [
    {
     "data": {
      "text/html": [
       "<div>\n",
       "<style scoped>\n",
       "    .dataframe tbody tr th:only-of-type {\n",
       "        vertical-align: middle;\n",
       "    }\n",
       "\n",
       "    .dataframe tbody tr th {\n",
       "        vertical-align: top;\n",
       "    }\n",
       "\n",
       "    .dataframe thead th {\n",
       "        text-align: right;\n",
       "    }\n",
       "</style>\n",
       "<table border=\"1\" class=\"dataframe\">\n",
       "  <thead>\n",
       "    <tr style=\"text-align: right;\">\n",
       "      <th></th>\n",
       "      <th>bedroomcnt</th>\n",
       "      <th>bathroomcnt</th>\n",
       "      <th>calculatedfinishedsquarefeet</th>\n",
       "      <th>taxvaluedollarcnt</th>\n",
       "      <th>yearbuilt</th>\n",
       "      <th>taxamount</th>\n",
       "      <th>fips</th>\n",
       "    </tr>\n",
       "  </thead>\n",
       "  <tbody>\n",
       "    <tr>\n",
       "      <th>0</th>\n",
       "      <td>0.0</td>\n",
       "      <td>0.0</td>\n",
       "      <td>NaN</td>\n",
       "      <td>27516.0</td>\n",
       "      <td>NaN</td>\n",
       "      <td>NaN</td>\n",
       "      <td>6037.0</td>\n",
       "    </tr>\n",
       "    <tr>\n",
       "      <th>1</th>\n",
       "      <td>0.0</td>\n",
       "      <td>0.0</td>\n",
       "      <td>NaN</td>\n",
       "      <td>10.0</td>\n",
       "      <td>NaN</td>\n",
       "      <td>NaN</td>\n",
       "      <td>6037.0</td>\n",
       "    </tr>\n",
       "    <tr>\n",
       "      <th>2</th>\n",
       "      <td>0.0</td>\n",
       "      <td>0.0</td>\n",
       "      <td>NaN</td>\n",
       "      <td>10.0</td>\n",
       "      <td>NaN</td>\n",
       "      <td>NaN</td>\n",
       "      <td>6037.0</td>\n",
       "    </tr>\n",
       "    <tr>\n",
       "      <th>3</th>\n",
       "      <td>0.0</td>\n",
       "      <td>0.0</td>\n",
       "      <td>NaN</td>\n",
       "      <td>2108.0</td>\n",
       "      <td>NaN</td>\n",
       "      <td>174.21</td>\n",
       "      <td>6037.0</td>\n",
       "    </tr>\n",
       "    <tr>\n",
       "      <th>4</th>\n",
       "      <td>4.0</td>\n",
       "      <td>2.0</td>\n",
       "      <td>3633.0</td>\n",
       "      <td>296425.0</td>\n",
       "      <td>2005.0</td>\n",
       "      <td>6941.39</td>\n",
       "      <td>6037.0</td>\n",
       "    </tr>\n",
       "    <tr>\n",
       "      <th>...</th>\n",
       "      <td>...</td>\n",
       "      <td>...</td>\n",
       "      <td>...</td>\n",
       "      <td>...</td>\n",
       "      <td>...</td>\n",
       "      <td>...</td>\n",
       "      <td>...</td>\n",
       "    </tr>\n",
       "    <tr>\n",
       "      <th>2152858</th>\n",
       "      <td>4.0</td>\n",
       "      <td>3.0</td>\n",
       "      <td>2262.0</td>\n",
       "      <td>960756.0</td>\n",
       "      <td>2015.0</td>\n",
       "      <td>13494.52</td>\n",
       "      <td>6059.0</td>\n",
       "    </tr>\n",
       "    <tr>\n",
       "      <th>2152859</th>\n",
       "      <td>4.0</td>\n",
       "      <td>4.5</td>\n",
       "      <td>3127.0</td>\n",
       "      <td>536061.0</td>\n",
       "      <td>2014.0</td>\n",
       "      <td>6244.16</td>\n",
       "      <td>6059.0</td>\n",
       "    </tr>\n",
       "    <tr>\n",
       "      <th>2152860</th>\n",
       "      <td>0.0</td>\n",
       "      <td>0.0</td>\n",
       "      <td>NaN</td>\n",
       "      <td>208057.0</td>\n",
       "      <td>NaN</td>\n",
       "      <td>5783.88</td>\n",
       "      <td>6059.0</td>\n",
       "    </tr>\n",
       "    <tr>\n",
       "      <th>2152861</th>\n",
       "      <td>3.0</td>\n",
       "      <td>2.5</td>\n",
       "      <td>1974.0</td>\n",
       "      <td>424353.0</td>\n",
       "      <td>2015.0</td>\n",
       "      <td>5302.70</td>\n",
       "      <td>6059.0</td>\n",
       "    </tr>\n",
       "    <tr>\n",
       "      <th>2152862</th>\n",
       "      <td>4.0</td>\n",
       "      <td>4.0</td>\n",
       "      <td>2110.0</td>\n",
       "      <td>554009.0</td>\n",
       "      <td>2014.0</td>\n",
       "      <td>6761.20</td>\n",
       "      <td>6037.0</td>\n",
       "    </tr>\n",
       "  </tbody>\n",
       "</table>\n",
       "<p>2152863 rows × 7 columns</p>\n",
       "</div>"
      ],
      "text/plain": [
       "         bedroomcnt  bathroomcnt  calculatedfinishedsquarefeet  \\\n",
       "0               0.0          0.0                           NaN   \n",
       "1               0.0          0.0                           NaN   \n",
       "2               0.0          0.0                           NaN   \n",
       "3               0.0          0.0                           NaN   \n",
       "4               4.0          2.0                        3633.0   \n",
       "...             ...          ...                           ...   \n",
       "2152858         4.0          3.0                        2262.0   \n",
       "2152859         4.0          4.5                        3127.0   \n",
       "2152860         0.0          0.0                           NaN   \n",
       "2152861         3.0          2.5                        1974.0   \n",
       "2152862         4.0          4.0                        2110.0   \n",
       "\n",
       "         taxvaluedollarcnt  yearbuilt  taxamount    fips  \n",
       "0                  27516.0        NaN        NaN  6037.0  \n",
       "1                     10.0        NaN        NaN  6037.0  \n",
       "2                     10.0        NaN        NaN  6037.0  \n",
       "3                   2108.0        NaN     174.21  6037.0  \n",
       "4                 296425.0     2005.0    6941.39  6037.0  \n",
       "...                    ...        ...        ...     ...  \n",
       "2152858           960756.0     2015.0   13494.52  6059.0  \n",
       "2152859           536061.0     2014.0    6244.16  6059.0  \n",
       "2152860           208057.0        NaN    5783.88  6059.0  \n",
       "2152861           424353.0     2015.0    5302.70  6059.0  \n",
       "2152862           554009.0     2014.0    6761.20  6037.0  \n",
       "\n",
       "[2152863 rows x 7 columns]"
      ]
     },
     "execution_count": 83,
     "metadata": {},
     "output_type": "execute_result"
    }
   ],
   "source": [
    "#code for this function can be found in my wrangle.py\n",
    "wrangle.new_zillow_data()"
   ]
  },
  {
   "cell_type": "code",
   "execution_count": 84,
   "id": "853b731c",
   "metadata": {},
   "outputs": [],
   "source": [
    "df = wrangle.get_zillow_data()"
   ]
  },
  {
   "cell_type": "code",
   "execution_count": 85,
   "id": "a0a271d3",
   "metadata": {},
   "outputs": [
    {
     "data": {
      "text/html": [
       "<div>\n",
       "<style scoped>\n",
       "    .dataframe tbody tr th:only-of-type {\n",
       "        vertical-align: middle;\n",
       "    }\n",
       "\n",
       "    .dataframe tbody tr th {\n",
       "        vertical-align: top;\n",
       "    }\n",
       "\n",
       "    .dataframe thead th {\n",
       "        text-align: right;\n",
       "    }\n",
       "</style>\n",
       "<table border=\"1\" class=\"dataframe\">\n",
       "  <thead>\n",
       "    <tr style=\"text-align: right;\">\n",
       "      <th></th>\n",
       "      <th>bedroomcnt</th>\n",
       "      <th>bathroomcnt</th>\n",
       "      <th>calculatedfinishedsquarefeet</th>\n",
       "      <th>taxvaluedollarcnt</th>\n",
       "      <th>yearbuilt</th>\n",
       "      <th>taxamount</th>\n",
       "      <th>fips</th>\n",
       "    </tr>\n",
       "  </thead>\n",
       "  <tbody>\n",
       "    <tr>\n",
       "      <th>0</th>\n",
       "      <td>0.0</td>\n",
       "      <td>0.0</td>\n",
       "      <td>NaN</td>\n",
       "      <td>27516.0</td>\n",
       "      <td>NaN</td>\n",
       "      <td>NaN</td>\n",
       "      <td>6037.0</td>\n",
       "    </tr>\n",
       "    <tr>\n",
       "      <th>1</th>\n",
       "      <td>0.0</td>\n",
       "      <td>0.0</td>\n",
       "      <td>NaN</td>\n",
       "      <td>10.0</td>\n",
       "      <td>NaN</td>\n",
       "      <td>NaN</td>\n",
       "      <td>6037.0</td>\n",
       "    </tr>\n",
       "    <tr>\n",
       "      <th>2</th>\n",
       "      <td>0.0</td>\n",
       "      <td>0.0</td>\n",
       "      <td>NaN</td>\n",
       "      <td>10.0</td>\n",
       "      <td>NaN</td>\n",
       "      <td>NaN</td>\n",
       "      <td>6037.0</td>\n",
       "    </tr>\n",
       "    <tr>\n",
       "      <th>3</th>\n",
       "      <td>0.0</td>\n",
       "      <td>0.0</td>\n",
       "      <td>NaN</td>\n",
       "      <td>2108.0</td>\n",
       "      <td>NaN</td>\n",
       "      <td>174.21</td>\n",
       "      <td>6037.0</td>\n",
       "    </tr>\n",
       "    <tr>\n",
       "      <th>4</th>\n",
       "      <td>4.0</td>\n",
       "      <td>2.0</td>\n",
       "      <td>3633.0</td>\n",
       "      <td>296425.0</td>\n",
       "      <td>2005.0</td>\n",
       "      <td>6941.39</td>\n",
       "      <td>6037.0</td>\n",
       "    </tr>\n",
       "  </tbody>\n",
       "</table>\n",
       "</div>"
      ],
      "text/plain": [
       "   bedroomcnt  bathroomcnt  calculatedfinishedsquarefeet  taxvaluedollarcnt  \\\n",
       "0         0.0          0.0                           NaN            27516.0   \n",
       "1         0.0          0.0                           NaN               10.0   \n",
       "2         0.0          0.0                           NaN               10.0   \n",
       "3         0.0          0.0                           NaN             2108.0   \n",
       "4         4.0          2.0                        3633.0           296425.0   \n",
       "\n",
       "   yearbuilt  taxamount    fips  \n",
       "0        NaN        NaN  6037.0  \n",
       "1        NaN        NaN  6037.0  \n",
       "2        NaN        NaN  6037.0  \n",
       "3        NaN     174.21  6037.0  \n",
       "4     2005.0    6941.39  6037.0  "
      ]
     },
     "execution_count": 85,
     "metadata": {},
     "output_type": "execute_result"
    }
   ],
   "source": [
    "df.head()"
   ]
  },
  {
   "cell_type": "code",
   "execution_count": 86,
   "id": "7a8e3f91",
   "metadata": {
    "scrolled": true
   },
   "outputs": [
    {
     "data": {
      "text/html": [
       "<div>\n",
       "<style scoped>\n",
       "    .dataframe tbody tr th:only-of-type {\n",
       "        vertical-align: middle;\n",
       "    }\n",
       "\n",
       "    .dataframe tbody tr th {\n",
       "        vertical-align: top;\n",
       "    }\n",
       "\n",
       "    .dataframe thead th {\n",
       "        text-align: right;\n",
       "    }\n",
       "</style>\n",
       "<table border=\"1\" class=\"dataframe\">\n",
       "  <thead>\n",
       "    <tr style=\"text-align: right;\">\n",
       "      <th></th>\n",
       "      <th>bedroomcnt</th>\n",
       "      <th>bathroomcnt</th>\n",
       "      <th>calculatedfinishedsquarefeet</th>\n",
       "      <th>taxvaluedollarcnt</th>\n",
       "      <th>yearbuilt</th>\n",
       "      <th>taxamount</th>\n",
       "      <th>fips</th>\n",
       "    </tr>\n",
       "  </thead>\n",
       "  <tbody>\n",
       "    <tr>\n",
       "      <th>count</th>\n",
       "      <td>2.152852e+06</td>\n",
       "      <td>2.152852e+06</td>\n",
       "      <td>2.144379e+06</td>\n",
       "      <td>2.152370e+06</td>\n",
       "      <td>2.143526e+06</td>\n",
       "      <td>2.148421e+06</td>\n",
       "      <td>2.152863e+06</td>\n",
       "    </tr>\n",
       "    <tr>\n",
       "      <th>mean</th>\n",
       "      <td>3.287196e+00</td>\n",
       "      <td>2.230688e+00</td>\n",
       "      <td>1.862855e+03</td>\n",
       "      <td>4.618962e+05</td>\n",
       "      <td>1.960950e+03</td>\n",
       "      <td>5.634866e+03</td>\n",
       "      <td>6.048377e+03</td>\n",
       "    </tr>\n",
       "    <tr>\n",
       "      <th>std</th>\n",
       "      <td>9.547544e-01</td>\n",
       "      <td>9.992796e-01</td>\n",
       "      <td>1.222125e+03</td>\n",
       "      <td>6.996760e+05</td>\n",
       "      <td>2.216220e+01</td>\n",
       "      <td>8.178910e+03</td>\n",
       "      <td>2.043329e+01</td>\n",
       "    </tr>\n",
       "    <tr>\n",
       "      <th>min</th>\n",
       "      <td>0.000000e+00</td>\n",
       "      <td>0.000000e+00</td>\n",
       "      <td>1.000000e+00</td>\n",
       "      <td>1.000000e+00</td>\n",
       "      <td>1.801000e+03</td>\n",
       "      <td>1.850000e+00</td>\n",
       "      <td>6.037000e+03</td>\n",
       "    </tr>\n",
       "    <tr>\n",
       "      <th>25%</th>\n",
       "      <td>3.000000e+00</td>\n",
       "      <td>2.000000e+00</td>\n",
       "      <td>1.257000e+03</td>\n",
       "      <td>1.881702e+05</td>\n",
       "      <td>1.949000e+03</td>\n",
       "      <td>2.534980e+03</td>\n",
       "      <td>6.037000e+03</td>\n",
       "    </tr>\n",
       "    <tr>\n",
       "      <th>50%</th>\n",
       "      <td>3.000000e+00</td>\n",
       "      <td>2.000000e+00</td>\n",
       "      <td>1.623000e+03</td>\n",
       "      <td>3.276710e+05</td>\n",
       "      <td>1.958000e+03</td>\n",
       "      <td>4.108950e+03</td>\n",
       "      <td>6.037000e+03</td>\n",
       "    </tr>\n",
       "    <tr>\n",
       "      <th>75%</th>\n",
       "      <td>4.000000e+00</td>\n",
       "      <td>3.000000e+00</td>\n",
       "      <td>2.208000e+03</td>\n",
       "      <td>5.345270e+05</td>\n",
       "      <td>1.976000e+03</td>\n",
       "      <td>6.414320e+03</td>\n",
       "      <td>6.059000e+03</td>\n",
       "    </tr>\n",
       "    <tr>\n",
       "      <th>max</th>\n",
       "      <td>2.500000e+01</td>\n",
       "      <td>3.200000e+01</td>\n",
       "      <td>9.525760e+05</td>\n",
       "      <td>9.842891e+07</td>\n",
       "      <td>2.016000e+03</td>\n",
       "      <td>1.337756e+06</td>\n",
       "      <td>6.111000e+03</td>\n",
       "    </tr>\n",
       "  </tbody>\n",
       "</table>\n",
       "</div>"
      ],
      "text/plain": [
       "         bedroomcnt   bathroomcnt  calculatedfinishedsquarefeet  \\\n",
       "count  2.152852e+06  2.152852e+06                  2.144379e+06   \n",
       "mean   3.287196e+00  2.230688e+00                  1.862855e+03   \n",
       "std    9.547544e-01  9.992796e-01                  1.222125e+03   \n",
       "min    0.000000e+00  0.000000e+00                  1.000000e+00   \n",
       "25%    3.000000e+00  2.000000e+00                  1.257000e+03   \n",
       "50%    3.000000e+00  2.000000e+00                  1.623000e+03   \n",
       "75%    4.000000e+00  3.000000e+00                  2.208000e+03   \n",
       "max    2.500000e+01  3.200000e+01                  9.525760e+05   \n",
       "\n",
       "       taxvaluedollarcnt     yearbuilt     taxamount          fips  \n",
       "count       2.152370e+06  2.143526e+06  2.148421e+06  2.152863e+06  \n",
       "mean        4.618962e+05  1.960950e+03  5.634866e+03  6.048377e+03  \n",
       "std         6.996760e+05  2.216220e+01  8.178910e+03  2.043329e+01  \n",
       "min         1.000000e+00  1.801000e+03  1.850000e+00  6.037000e+03  \n",
       "25%         1.881702e+05  1.949000e+03  2.534980e+03  6.037000e+03  \n",
       "50%         3.276710e+05  1.958000e+03  4.108950e+03  6.037000e+03  \n",
       "75%         5.345270e+05  1.976000e+03  6.414320e+03  6.059000e+03  \n",
       "max         9.842891e+07  2.016000e+03  1.337756e+06  6.111000e+03  "
      ]
     },
     "execution_count": 86,
     "metadata": {},
     "output_type": "execute_result"
    }
   ],
   "source": [
    "df.describe()"
   ]
  },
  {
   "cell_type": "code",
   "execution_count": 87,
   "id": "b463447c",
   "metadata": {},
   "outputs": [
    {
     "name": "stdout",
     "output_type": "stream",
     "text": [
      "<class 'pandas.core.frame.DataFrame'>\n",
      "Int64Index: 2152863 entries, 0 to 2152862\n",
      "Data columns (total 7 columns):\n",
      " #   Column                        Dtype  \n",
      "---  ------                        -----  \n",
      " 0   bedroomcnt                    float64\n",
      " 1   bathroomcnt                   float64\n",
      " 2   calculatedfinishedsquarefeet  float64\n",
      " 3   taxvaluedollarcnt             float64\n",
      " 4   yearbuilt                     float64\n",
      " 5   taxamount                     float64\n",
      " 6   fips                          float64\n",
      "dtypes: float64(7)\n",
      "memory usage: 131.4 MB\n"
     ]
    }
   ],
   "source": [
    "df.info()"
   ]
  },
  {
   "cell_type": "code",
   "execution_count": 88,
   "id": "4f2f12fa",
   "metadata": {
    "scrolled": false
   },
   "outputs": [
    {
     "data": {
      "text/plain": [
       "(2152863, 7)"
      ]
     },
     "execution_count": 88,
     "metadata": {},
     "output_type": "execute_result"
    }
   ],
   "source": [
    "df.shape"
   ]
  },
  {
   "cell_type": "code",
   "execution_count": 89,
   "id": "7716a1fa",
   "metadata": {
    "scrolled": true
   },
   "outputs": [
    {
     "data": {
      "text/plain": [
       "array([[<AxesSubplot:title={'center':'bedroomcnt'}>,\n",
       "        <AxesSubplot:title={'center':'bathroomcnt'}>,\n",
       "        <AxesSubplot:title={'center':'calculatedfinishedsquarefeet'}>],\n",
       "       [<AxesSubplot:title={'center':'taxvaluedollarcnt'}>,\n",
       "        <AxesSubplot:title={'center':'yearbuilt'}>,\n",
       "        <AxesSubplot:title={'center':'taxamount'}>],\n",
       "       [<AxesSubplot:title={'center':'fips'}>, <AxesSubplot:>,\n",
       "        <AxesSubplot:>]], dtype=object)"
      ]
     },
     "execution_count": 89,
     "metadata": {},
     "output_type": "execute_result"
    },
    {
     "data": {
      "image/png": "[encoded data removed]",
      "text/plain": [
       "<Figure size 792x648 with 9 Axes>"
      ]
     },
     "metadata": {
      "needs_background": "light"
     },
     "output_type": "display_data"
    }
   ],
   "source": [
    "df.hist()"
   ]
  },
  {
   "cell_type": "code",
   "execution_count": 90,
   "id": "abcdfda6",
   "metadata": {},
   "outputs": [
    {
     "data": {
      "image/png": "[encoded data removed]",
      "text/plain": [
       "<Figure size 1152x216 with 6 Axes>"
      ]
     },
     "metadata": {
      "needs_background": "light"
     },
     "output_type": "display_data"
    }
   ],
   "source": [
    "plt.figure(figsize=(16, 3))\n",
    "\n",
    "# List of columns\n",
    "cols = [col for col in df.columns if col not in ['fips', 'year_built']]\n",
    "\n",
    "for i, col in enumerate(cols):\n",
    "\n",
    "    # i starts at 0, but plot nos should start at 1\n",
    "    plot_number = i + 1 \n",
    "\n",
    "    # Create subplot.\n",
    "    plt.subplot(1, len(cols), plot_number)\n",
    "\n",
    "    # Title with column name.\n",
    "    plt.title(col)\n",
    "\n",
    "    # Display histogram for column.\n",
    "    df[col].hist(bins=5)\n",
    "\n",
    "    # Hide gridlines.\n",
    "    plt.grid(False)\n",
    "    \n",
    "    # turn off scientific notation\n",
    "    plt.ticklabel_format(useOffset=False)\n",
    "    \n",
    "plt.show()"
   ]
  },
  {
   "cell_type": "code",
   "execution_count": 91,
   "id": "ac9bc7ff",
   "metadata": {},
   "outputs": [
    {
     "ename": "KeyError",
     "evalue": "\"None of [Index(['bedrooms'], dtype='object')] are in the [columns]\"",
     "output_type": "error",
     "traceback": [
      "\u001b[0;31m---------------------------------------------------------------------------\u001b[0m",
      "\u001b[0;31mKeyError\u001b[0m                                  Traceback (most recent call last)",
      "\u001b[0;32m<ipython-input-91-e901dd669c4e>\u001b[0m in \u001b[0;36m<module>\u001b[0;34m\u001b[0m\n\u001b[1;32m     16\u001b[0m \u001b[0;34m\u001b[0m\u001b[0m\n\u001b[1;32m     17\u001b[0m     \u001b[0;31m# Display boxplot for column.\u001b[0m\u001b[0;34m\u001b[0m\u001b[0;34m\u001b[0m\u001b[0;34m\u001b[0m\u001b[0m\n\u001b[0;32m---> 18\u001b[0;31m     \u001b[0msns\u001b[0m\u001b[0;34m.\u001b[0m\u001b[0mboxplot\u001b[0m\u001b[0;34m(\u001b[0m\u001b[0mdata\u001b[0m\u001b[0;34m=\u001b[0m\u001b[0mdf\u001b[0m\u001b[0;34m[\u001b[0m\u001b[0;34m[\u001b[0m\u001b[0mcol\u001b[0m\u001b[0;34m]\u001b[0m\u001b[0;34m]\u001b[0m\u001b[0;34m)\u001b[0m\u001b[0;34m\u001b[0m\u001b[0;34m\u001b[0m\u001b[0m\n\u001b[0m\u001b[1;32m     19\u001b[0m \u001b[0;34m\u001b[0m\u001b[0m\n\u001b[1;32m     20\u001b[0m     \u001b[0;31m# Hide gridlines.\u001b[0m\u001b[0;34m\u001b[0m\u001b[0;34m\u001b[0m\u001b[0;34m\u001b[0m\u001b[0m\n",
      "\u001b[0;32m/opt/homebrew/anaconda3/lib/python3.8/site-packages/pandas/core/frame.py\u001b[0m in \u001b[0;36m__getitem__\u001b[0;34m(self, key)\u001b[0m\n\u001b[1;32m   3028\u001b[0m             \u001b[0;32mif\u001b[0m \u001b[0mis_iterator\u001b[0m\u001b[0;34m(\u001b[0m\u001b[0mkey\u001b[0m\u001b[0;34m)\u001b[0m\u001b[0;34m:\u001b[0m\u001b[0;34m\u001b[0m\u001b[0;34m\u001b[0m\u001b[0m\n\u001b[1;32m   3029\u001b[0m                 \u001b[0mkey\u001b[0m \u001b[0;34m=\u001b[0m \u001b[0mlist\u001b[0m\u001b[0;34m(\u001b[0m\u001b[0mkey\u001b[0m\u001b[0;34m)\u001b[0m\u001b[0;34m\u001b[0m\u001b[0;34m\u001b[0m\u001b[0m\n\u001b[0;32m-> 3030\u001b[0;31m             \u001b[0mindexer\u001b[0m \u001b[0;34m=\u001b[0m \u001b[0mself\u001b[0m\u001b[0;34m.\u001b[0m\u001b[0mloc\u001b[0m\u001b[0;34m.\u001b[0m\u001b[0m_get_listlike_indexer\u001b[0m\u001b[0;34m(\u001b[0m\u001b[0mkey\u001b[0m\u001b[0;34m,\u001b[0m \u001b[0maxis\u001b[0m\u001b[0;34m=\u001b[0m\u001b[0;36m1\u001b[0m\u001b[0;34m,\u001b[0m \u001b[0mraise_missing\u001b[0m\u001b[0;34m=\u001b[0m\u001b[0;32mTrue\u001b[0m\u001b[0;34m)\u001b[0m\u001b[0;34m[\u001b[0m\u001b[0;36m1\u001b[0m\u001b[0;34m]\u001b[0m\u001b[0;34m\u001b[0m\u001b[0;34m\u001b[0m\u001b[0m\n\u001b[0m\u001b[1;32m   3031\u001b[0m \u001b[0;34m\u001b[0m\u001b[0m\n\u001b[1;32m   3032\u001b[0m         \u001b[0;31m# take() does not accept boolean indexers\u001b[0m\u001b[0;34m\u001b[0m\u001b[0;34m\u001b[0m\u001b[0;34m\u001b[0m\u001b[0m\n",
      "\u001b[0;32m/opt/homebrew/anaconda3/lib/python3.8/site-packages/pandas/core/indexing.py\u001b[0m in \u001b[0;36m_get_listlike_indexer\u001b[0;34m(self, key, axis, raise_missing)\u001b[0m\n\u001b[1;32m   1264\u001b[0m             \u001b[0mkeyarr\u001b[0m\u001b[0;34m,\u001b[0m \u001b[0mindexer\u001b[0m\u001b[0;34m,\u001b[0m \u001b[0mnew_indexer\u001b[0m \u001b[0;34m=\u001b[0m \u001b[0max\u001b[0m\u001b[0;34m.\u001b[0m\u001b[0m_reindex_non_unique\u001b[0m\u001b[0;34m(\u001b[0m\u001b[0mkeyarr\u001b[0m\u001b[0;34m)\u001b[0m\u001b[0;34m\u001b[0m\u001b[0;34m\u001b[0m\u001b[0m\n\u001b[1;32m   1265\u001b[0m \u001b[0;34m\u001b[0m\u001b[0m\n\u001b[0;32m-> 1266\u001b[0;31m         \u001b[0mself\u001b[0m\u001b[0;34m.\u001b[0m\u001b[0m_validate_read_indexer\u001b[0m\u001b[0;34m(\u001b[0m\u001b[0mkeyarr\u001b[0m\u001b[0;34m,\u001b[0m \u001b[0mindexer\u001b[0m\u001b[0;34m,\u001b[0m \u001b[0maxis\u001b[0m\u001b[0;34m,\u001b[0m \u001b[0mraise_missing\u001b[0m\u001b[0;34m=\u001b[0m\u001b[0mraise_missing\u001b[0m\u001b[0;34m)\u001b[0m\u001b[0;34m\u001b[0m\u001b[0;34m\u001b[0m\u001b[0m\n\u001b[0m\u001b[1;32m   1267\u001b[0m         \u001b[0;32mreturn\u001b[0m \u001b[0mkeyarr\u001b[0m\u001b[0;34m,\u001b[0m \u001b[0mindexer\u001b[0m\u001b[0;34m\u001b[0m\u001b[0;34m\u001b[0m\u001b[0m\n\u001b[1;32m   1268\u001b[0m \u001b[0;34m\u001b[0m\u001b[0m\n",
      "\u001b[0;32m/opt/homebrew/anaconda3/lib/python3.8/site-packages/pandas/core/indexing.py\u001b[0m in \u001b[0;36m_validate_read_indexer\u001b[0;34m(self, key, indexer, axis, raise_missing)\u001b[0m\n\u001b[1;32m   1306\u001b[0m             \u001b[0;32mif\u001b[0m \u001b[0mmissing\u001b[0m \u001b[0;34m==\u001b[0m \u001b[0mlen\u001b[0m\u001b[0;34m(\u001b[0m\u001b[0mindexer\u001b[0m\u001b[0;34m)\u001b[0m\u001b[0;34m:\u001b[0m\u001b[0;34m\u001b[0m\u001b[0;34m\u001b[0m\u001b[0m\n\u001b[1;32m   1307\u001b[0m                 \u001b[0maxis_name\u001b[0m \u001b[0;34m=\u001b[0m \u001b[0mself\u001b[0m\u001b[0;34m.\u001b[0m\u001b[0mobj\u001b[0m\u001b[0;34m.\u001b[0m\u001b[0m_get_axis_name\u001b[0m\u001b[0;34m(\u001b[0m\u001b[0maxis\u001b[0m\u001b[0;34m)\u001b[0m\u001b[0;34m\u001b[0m\u001b[0;34m\u001b[0m\u001b[0m\n\u001b[0;32m-> 1308\u001b[0;31m                 \u001b[0;32mraise\u001b[0m \u001b[0mKeyError\u001b[0m\u001b[0;34m(\u001b[0m\u001b[0;34mf\"None of [{key}] are in the [{axis_name}]\"\u001b[0m\u001b[0;34m)\u001b[0m\u001b[0;34m\u001b[0m\u001b[0;34m\u001b[0m\u001b[0m\n\u001b[0m\u001b[1;32m   1309\u001b[0m \u001b[0;34m\u001b[0m\u001b[0m\n\u001b[1;32m   1310\u001b[0m             \u001b[0max\u001b[0m \u001b[0;34m=\u001b[0m \u001b[0mself\u001b[0m\u001b[0;34m.\u001b[0m\u001b[0mobj\u001b[0m\u001b[0;34m.\u001b[0m\u001b[0m_get_axis\u001b[0m\u001b[0;34m(\u001b[0m\u001b[0maxis\u001b[0m\u001b[0;34m)\u001b[0m\u001b[0;34m\u001b[0m\u001b[0;34m\u001b[0m\u001b[0m\n",
      "\u001b[0;31mKeyError\u001b[0m: \"None of [Index(['bedrooms'], dtype='object')] are in the [columns]\""
     ]
    },
    {
     "data": {
      "image/png": "[encoded data removed]",
      "text/plain": [
       "<Figure size 1152x216 with 1 Axes>"
      ]
     },
     "metadata": {
      "needs_background": "light"
     },
     "output_type": "display_data"
    }
   ],
   "source": [
    "# List of columns\n",
    "cols = ['bedrooms', 'bathrooms', 'square_feet', 'tax_value', 'taxamount']\n",
    "\n",
    "plt.figure(figsize=(16, 3))\n",
    "\n",
    "for i, col in enumerate(cols):\n",
    "\n",
    "    # i starts at 0, but plot should start at 1\n",
    "    plot_number = i + 1 \n",
    "\n",
    "    # Create subplot.\n",
    "    plt.subplot(1, len(cols), plot_number)\n",
    "\n",
    "    # Title with column name.\n",
    "    plt.title(col)\n",
    "\n",
    "    # Display boxplot for column.\n",
    "    sns.boxplot(data=df[[col]])\n",
    "\n",
    "    # Hide gridlines.\n",
    "    plt.grid(False)\n",
    "\n",
    "    # sets proper spacing between plots\n",
    "    plt.tight_layout()\n",
    "    \n",
    "plt.show()"
   ]
  },
  {
   "cell_type": "markdown",
   "id": "cc8a28d0",
   "metadata": {},
   "source": [
    "### Acquire Takeaways:\n",
    "- There appear to be some serious outliers\n"
   ]
  },
  {
   "cell_type": "markdown",
   "id": "2de928a0",
   "metadata": {},
   "source": [
    "2. Using your acquired Zillow data, walk through the summarization and cleaning steps in your `wrangle.ipynb` file like we did above. You may handle the missing values however you feel is appropriate and meaninful; remember to document your process and decisions using markdown and code commenting where helpful."
   ]
  },
  {
   "cell_type": "markdown",
   "id": "1145d4f4",
   "metadata": {},
   "source": [
    "## Prepare\n",
    "### Plan for Prepare:\n",
    "- [] Store functions that are needed to prepare your data; make sure your module contains the necessary imports to run your code. Your final function should do the following:\n",
    "\n",
    "- [] Split your data into train/validate/test.\n",
    "- [] Handle Missing Values.\n",
    "- [] Handle outliers\n",
    "- [] Handle erroneous data and/or outliers you wish to address.\n",
    "- []  Encode variables as needed.\n",
    "- [] Create any new features, if you decided to make any for this project\n",
    "- [] Create function to clean data and Split data"
   ]
  },
  {
   "cell_type": "code",
   "execution_count": 61,
   "id": "91691fd6",
   "metadata": {},
   "outputs": [
    {
     "data": {
      "text/plain": [
       "Index(['bedrooms', 'bathrooms', 'square_feet', 'tax_value', 'year_built',\n",
       "       'taxamount', 'fips'],\n",
       "      dtype='object')"
      ]
     },
     "execution_count": 61,
     "metadata": {},
     "output_type": "execute_result"
    }
   ],
   "source": [
    "#rename columns\n",
    "df = df.rename(columns = {'bedroomcnt': 'bedrooms', \n",
    "                           'bathroomcnt':'bathrooms',\n",
    "                           'calculatedfinishedsquarefeet': 'square_feet',\n",
    "                           'taxvaluedollarcnt':'tax_value',\n",
    "                           'yearbuilt':'year_built'})\n",
    "df.columns"
   ]
  },
  {
   "cell_type": "code",
   "execution_count": null,
   "id": "1e952277",
   "metadata": {},
   "outputs": [],
   "source": []
  },
  {
   "cell_type": "code",
   "execution_count": 58,
   "id": "24c6c741",
   "metadata": {},
   "outputs": [],
   "source": [
    "#remove outliers using remove_outliers function\n"
   ]
  },
  {
   "cell_type": "code",
   "execution_count": 46,
   "id": "5f4e3b70",
   "metadata": {},
   "outputs": [
    {
     "data": {
      "text/html": [
       "<div>\n",
       "<style scoped>\n",
       "    .dataframe tbody tr th:only-of-type {\n",
       "        vertical-align: middle;\n",
       "    }\n",
       "\n",
       "    .dataframe tbody tr th {\n",
       "        vertical-align: top;\n",
       "    }\n",
       "\n",
       "    .dataframe thead th {\n",
       "        text-align: right;\n",
       "    }\n",
       "</style>\n",
       "<table border=\"1\" class=\"dataframe\">\n",
       "  <thead>\n",
       "    <tr style=\"text-align: right;\">\n",
       "      <th></th>\n",
       "      <th>bedroomcnt</th>\n",
       "      <th>bathroomcnt</th>\n",
       "      <th>calculatedfinishedsquarefeet</th>\n",
       "      <th>taxvaluedollarcnt</th>\n",
       "      <th>yearbuilt</th>\n",
       "      <th>taxamount</th>\n",
       "      <th>fips</th>\n",
       "    </tr>\n",
       "  </thead>\n",
       "  <tbody>\n",
       "    <tr>\n",
       "      <th>0</th>\n",
       "      <td>0.0</td>\n",
       "      <td>0.0</td>\n",
       "      <td>NaN</td>\n",
       "      <td>27516.0</td>\n",
       "      <td>NaN</td>\n",
       "      <td>NaN</td>\n",
       "      <td>6037.0</td>\n",
       "    </tr>\n",
       "    <tr>\n",
       "      <th>1</th>\n",
       "      <td>0.0</td>\n",
       "      <td>0.0</td>\n",
       "      <td>NaN</td>\n",
       "      <td>10.0</td>\n",
       "      <td>NaN</td>\n",
       "      <td>NaN</td>\n",
       "      <td>6037.0</td>\n",
       "    </tr>\n",
       "    <tr>\n",
       "      <th>3</th>\n",
       "      <td>0.0</td>\n",
       "      <td>0.0</td>\n",
       "      <td>NaN</td>\n",
       "      <td>2108.0</td>\n",
       "      <td>NaN</td>\n",
       "      <td>174.21</td>\n",
       "      <td>6037.0</td>\n",
       "    </tr>\n",
       "    <tr>\n",
       "      <th>4</th>\n",
       "      <td>4.0</td>\n",
       "      <td>2.0</td>\n",
       "      <td>3633.0</td>\n",
       "      <td>296425.0</td>\n",
       "      <td>2005.0</td>\n",
       "      <td>6941.39</td>\n",
       "      <td>6037.0</td>\n",
       "    </tr>\n",
       "    <tr>\n",
       "      <th>5</th>\n",
       "      <td>0.0</td>\n",
       "      <td>0.0</td>\n",
       "      <td>NaN</td>\n",
       "      <td>124.0</td>\n",
       "      <td>NaN</td>\n",
       "      <td>NaN</td>\n",
       "      <td>6037.0</td>\n",
       "    </tr>\n",
       "    <tr>\n",
       "      <th>...</th>\n",
       "      <td>...</td>\n",
       "      <td>...</td>\n",
       "      <td>...</td>\n",
       "      <td>...</td>\n",
       "      <td>...</td>\n",
       "      <td>...</td>\n",
       "      <td>...</td>\n",
       "    </tr>\n",
       "    <tr>\n",
       "      <th>2152856</th>\n",
       "      <td>4.0</td>\n",
       "      <td>4.0</td>\n",
       "      <td>4375.0</td>\n",
       "      <td>422400.0</td>\n",
       "      <td>2015.0</td>\n",
       "      <td>13877.56</td>\n",
       "      <td>6037.0</td>\n",
       "    </tr>\n",
       "    <tr>\n",
       "      <th>2152857</th>\n",
       "      <td>0.0</td>\n",
       "      <td>0.0</td>\n",
       "      <td>NaN</td>\n",
       "      <td>1087111.0</td>\n",
       "      <td>NaN</td>\n",
       "      <td>19313.08</td>\n",
       "      <td>6059.0</td>\n",
       "    </tr>\n",
       "    <tr>\n",
       "      <th>2152858</th>\n",
       "      <td>4.0</td>\n",
       "      <td>3.0</td>\n",
       "      <td>2262.0</td>\n",
       "      <td>960756.0</td>\n",
       "      <td>2015.0</td>\n",
       "      <td>13494.52</td>\n",
       "      <td>6059.0</td>\n",
       "    </tr>\n",
       "    <tr>\n",
       "      <th>2152859</th>\n",
       "      <td>4.0</td>\n",
       "      <td>4.5</td>\n",
       "      <td>3127.0</td>\n",
       "      <td>536061.0</td>\n",
       "      <td>2014.0</td>\n",
       "      <td>6244.16</td>\n",
       "      <td>6059.0</td>\n",
       "    </tr>\n",
       "    <tr>\n",
       "      <th>2152862</th>\n",
       "      <td>4.0</td>\n",
       "      <td>4.0</td>\n",
       "      <td>2110.0</td>\n",
       "      <td>554009.0</td>\n",
       "      <td>2014.0</td>\n",
       "      <td>6761.20</td>\n",
       "      <td>6037.0</td>\n",
       "    </tr>\n",
       "  </tbody>\n",
       "</table>\n",
       "<p>2141219 rows × 7 columns</p>\n",
       "</div>"
      ],
      "text/plain": [
       "         bedroomcnt  bathroomcnt  calculatedfinishedsquarefeet  \\\n",
       "0               0.0          0.0                           NaN   \n",
       "1               0.0          0.0                           NaN   \n",
       "3               0.0          0.0                           NaN   \n",
       "4               4.0          2.0                        3633.0   \n",
       "5               0.0          0.0                           NaN   \n",
       "...             ...          ...                           ...   \n",
       "2152856         4.0          4.0                        4375.0   \n",
       "2152857         0.0          0.0                           NaN   \n",
       "2152858         4.0          3.0                        2262.0   \n",
       "2152859         4.0          4.5                        3127.0   \n",
       "2152862         4.0          4.0                        2110.0   \n",
       "\n",
       "         taxvaluedollarcnt  yearbuilt  taxamount    fips  \n",
       "0                  27516.0        NaN        NaN  6037.0  \n",
       "1                     10.0        NaN        NaN  6037.0  \n",
       "3                   2108.0        NaN     174.21  6037.0  \n",
       "4                 296425.0     2005.0    6941.39  6037.0  \n",
       "5                    124.0        NaN        NaN  6037.0  \n",
       "...                    ...        ...        ...     ...  \n",
       "2152856           422400.0     2015.0   13877.56  6037.0  \n",
       "2152857          1087111.0        NaN   19313.08  6059.0  \n",
       "2152858           960756.0     2015.0   13494.52  6059.0  \n",
       "2152859           536061.0     2014.0    6244.16  6059.0  \n",
       "2152862           554009.0     2014.0    6761.20  6037.0  \n",
       "\n",
       "[2141219 rows x 7 columns]"
      ]
     },
     "execution_count": 46,
     "metadata": {},
     "output_type": "execute_result"
    }
   ],
   "source": [
    "#remove whitespace\n",
    "df.applymap(lambda x: x.strip() if type(x)==str else x)"
   ]
  },
  {
   "cell_type": "code",
   "execution_count": 37,
   "id": "28b763dd",
   "metadata": {},
   "outputs": [],
   "source": [
    "#drop duplicates just in case\n",
    "#do we do this?\n",
    "df = df.drop_duplicates()"
   ]
  },
  {
   "cell_type": "code",
   "execution_count": 39,
   "id": "700438a5",
   "metadata": {},
   "outputs": [
    {
     "data": {
      "text/plain": [
       "(2141219, 7)"
      ]
     },
     "execution_count": 39,
     "metadata": {},
     "output_type": "execute_result"
    }
   ],
   "source": [
    "df.shape"
   ]
  },
  {
   "cell_type": "code",
   "execution_count": 47,
   "id": "76000e80",
   "metadata": {
    "scrolled": false
   },
   "outputs": [
    {
     "data": {
      "text/plain": [
       "bedroomcnt                        11\n",
       "bathroomcnt                       11\n",
       "calculatedfinishedsquarefeet    6932\n",
       "taxvaluedollarcnt                126\n",
       "yearbuilt                       7770\n",
       "taxamount                       3351\n",
       "fips                               0\n",
       "dtype: int64"
      ]
     },
     "execution_count": 47,
     "metadata": {},
     "output_type": "execute_result"
    }
   ],
   "source": [
    "df.isnull().sum()"
   ]
  },
  {
   "cell_type": "code",
   "execution_count": 48,
   "id": "18d0dfe4",
   "metadata": {
    "scrolled": false
   },
   "outputs": [
    {
     "data": {
      "image/png": "[encoded data removed]",
      "text/plain": [
       "<Figure size 432x288 with 1 Axes>"
      ]
     },
     "metadata": {
      "needs_background": "light"
     },
     "output_type": "display_data"
    },
    {
     "data": {
      "image/png": "[encoded data removed]",
      "text/plain": [
       "<Figure size 432x288 with 1 Axes>"
      ]
     },
     "metadata": {
      "needs_background": "light"
     },
     "output_type": "display_data"
    },
    {
     "data": {
      "image/png": "[encoded data removed]",
      "text/plain": [
       "<Figure size 432x288 with 1 Axes>"
      ]
     },
     "metadata": {
      "needs_background": "light"
     },
     "output_type": "display_data"
    },
    {
     "data": {
      "image/png": "[encoded data removed]",
      "text/plain": [
       "<Figure size 432x288 with 1 Axes>"
      ]
     },
     "metadata": {
      "needs_background": "light"
     },
     "output_type": "display_data"
    },
    {
     "data": {
      "image/png": "[encoded data removed]",
      "text/plain": [
       "<Figure size 432x288 with 1 Axes>"
      ]
     },
     "metadata": {
      "needs_background": "light"
     },
     "output_type": "display_data"
    },
    {
     "data": {
      "image/png": "[encoded data removed]",
      "text/plain": [
       "<Figure size 432x288 with 1 Axes>"
      ]
     },
     "metadata": {
      "needs_background": "light"
     },
     "output_type": "display_data"
    },
    {
     "data": {
      "image/png": "[encoded data removed]",
      "text/plain": [
       "<Figure size 432x288 with 1 Axes>"
      ]
     },
     "metadata": {
      "needs_background": "light"
     },
     "output_type": "display_data"
    }
   ],
   "source": [
    "# plot distribution of numeric columns\n",
    "\n",
    "# create a list of numeric column names\n",
    "\n",
    "num_cols = df.select_dtypes(include = 'number').columns\n",
    "num_cols\n",
    "\n",
    "# loop through the list and plot a histogram for each numeric column\n",
    "for col in num_cols:\n",
    "    plt.hist(df[col])\n",
    "    plt.title(col)\n",
    "    plt.show()"
   ]
  },
  {
   "cell_type": "code",
   "execution_count": 36,
   "id": "12194672",
   "metadata": {},
   "outputs": [
    {
     "name": "stdout",
     "output_type": "stream",
     "text": [
      "3.0     964298\n",
      "4.0     634289\n",
      "2.0     335473\n",
      "5.0     150866\n",
      "6.0      25166\n",
      "1.0      23166\n",
      "0.0      13187\n",
      "7.0       4807\n",
      "8.0       1107\n",
      "9.0        291\n",
      "10.0       121\n",
      "11.0        34\n",
      "13.0        16\n",
      "12.0        12\n",
      "14.0         7\n",
      "15.0         6\n",
      "18.0         3\n",
      "16.0         2\n",
      "25.0         1\n",
      "Name: bedroomcnt, dtype: int64\n",
      "\n",
      "\n",
      "3.0     4.479142e-01\n",
      "4.0     2.946258e-01\n",
      "2.0     1.558265e-01\n",
      "5.0     7.007692e-02\n",
      "6.0     1.168955e-02\n",
      "1.0     1.076055e-02\n",
      "0.0     6.125332e-03\n",
      "7.0     2.232841e-03\n",
      "8.0     5.141990e-04\n",
      "9.0     1.351688e-04\n",
      "10.0    5.620423e-05\n",
      "11.0    1.579292e-05\n",
      "13.0    7.431964e-06\n",
      "12.0    5.573973e-06\n",
      "NaN     5.109475e-06\n",
      "14.0    3.251484e-06\n",
      "15.0    2.786986e-06\n",
      "18.0    1.393493e-06\n",
      "16.0    9.289955e-07\n",
      "25.0    4.644977e-07\n",
      "Name: bedroomcnt, dtype: float64\n",
      "---------------------------------\n",
      "\n",
      "2.00     943589\n",
      "3.00     422841\n",
      "1.00     414324\n",
      "2.50     142981\n",
      "4.00      82155\n",
      "1.50      31211\n",
      "3.50      28518\n",
      "5.00      28362\n",
      "4.50      19506\n",
      "0.00      13027\n",
      "6.00      10747\n",
      "5.50       6217\n",
      "7.00       4394\n",
      "8.00       1692\n",
      "6.50       1333\n",
      "9.00        713\n",
      "7.50        384\n",
      "10.00       325\n",
      "11.00       146\n",
      "8.50        110\n",
      "12.00        73\n",
      "9.50         50\n",
      "13.00        39\n",
      "14.00        25\n",
      "15.00        17\n",
      "0.50         16\n",
      "10.50        14\n",
      "16.00        12\n",
      "18.00         8\n",
      "20.00         6\n",
      "17.00         4\n",
      "1.75          3\n",
      "12.50         3\n",
      "11.50         3\n",
      "14.50         1\n",
      "32.00         1\n",
      "19.50         1\n",
      "19.00         1\n",
      "Name: bathroomcnt, dtype: int64\n",
      "\n",
      "\n",
      "2.00     4.382950e-01\n",
      "3.00     1.964087e-01\n",
      "1.00     1.924526e-01\n",
      "2.50     6.641435e-02\n",
      "4.00     3.816081e-02\n",
      "1.50     1.449744e-02\n",
      "3.50     1.324655e-02\n",
      "5.00     1.317408e-02\n",
      "4.50     9.060493e-03\n",
      "0.00     6.051012e-03\n",
      "6.00     4.991957e-03\n",
      "5.50     2.887782e-03\n",
      "7.00     2.041003e-03\n",
      "8.00     7.859302e-04\n",
      "6.50     6.191755e-04\n",
      "9.00     3.311869e-04\n",
      "7.50     1.783671e-04\n",
      "10.00    1.509618e-04\n",
      "11.00    6.781667e-05\n",
      "8.50     5.109475e-05\n",
      "12.00    3.390834e-05\n",
      "9.50     2.322489e-05\n",
      "13.00    1.811541e-05\n",
      "14.00    1.161244e-05\n",
      "15.00    7.896462e-06\n",
      "0.50     7.431964e-06\n",
      "10.50    6.502968e-06\n",
      "16.00    5.573973e-06\n",
      "NaN      5.109475e-06\n",
      "18.00    3.715982e-06\n",
      "20.00    2.786986e-06\n",
      "17.00    1.857991e-06\n",
      "1.75     1.393493e-06\n",
      "12.50    1.393493e-06\n",
      "11.50    1.393493e-06\n",
      "14.50    4.644977e-07\n",
      "32.00    4.644977e-07\n",
      "19.50    4.644977e-07\n",
      "19.00    4.644977e-07\n",
      "Name: bathroomcnt, dtype: float64\n",
      "---------------------------------\n",
      "\n",
      "1200.0     5195\n",
      "1080.0     4389\n",
      "1120.0     4362\n",
      "1400.0     3833\n",
      "1440.0     3690\n",
      "           ... \n",
      "10688.0       1\n",
      "8219.0        1\n",
      "17214.0       1\n",
      "11003.0       1\n",
      "7633.0        1\n",
      "Name: calculatedfinishedsquarefeet, Length: 10580, dtype: int64\n",
      "\n",
      "\n",
      "NaN        3.940799e-03\n",
      "1200.0     2.413066e-03\n",
      "1080.0     2.038681e-03\n",
      "1120.0     2.026139e-03\n",
      "1400.0     1.780420e-03\n",
      "               ...     \n",
      "13017.0    4.644977e-07\n",
      "463.0      4.644977e-07\n",
      "10923.0    4.644977e-07\n",
      "11937.0    4.644977e-07\n",
      "7633.0     4.644977e-07\n",
      "Name: calculatedfinishedsquarefeet, Length: 10581, dtype: float64\n",
      "---------------------------------\n",
      "\n",
      "450000.0     821\n",
      "500000.0     779\n",
      "400000.0     729\n",
      "430000.0     690\n",
      "440000.0     685\n",
      "            ... \n",
      "319040.0       1\n",
      "403636.0       1\n",
      "475796.0       1\n",
      "795258.0       1\n",
      "1436013.0      1\n",
      "Name: taxvaluedollarcnt, Length: 592269, dtype: int64\n",
      "\n",
      "\n",
      "450000.0     3.813526e-04\n",
      "500000.0     3.618437e-04\n",
      "400000.0     3.386189e-04\n",
      "430000.0     3.205034e-04\n",
      "440000.0     3.181810e-04\n",
      "                 ...     \n",
      "1621726.0    4.644977e-07\n",
      "1135840.0    4.644977e-07\n",
      "364517.0     4.644977e-07\n",
      "169528.0     4.644977e-07\n",
      "1436013.0    4.644977e-07\n",
      "Name: taxvaluedollarcnt, Length: 592270, dtype: float64\n",
      "---------------------------------\n",
      "\n",
      "1955.0    84405\n",
      "1950.0    71693\n",
      "1954.0    69163\n",
      "1953.0    62342\n",
      "1956.0    61942\n",
      "          ...  \n",
      "1879.0        1\n",
      "1877.0        1\n",
      "1855.0        1\n",
      "1874.0        1\n",
      "1823.0        1\n",
      "Name: yearbuilt, Length: 153, dtype: int64\n",
      "\n",
      "\n",
      "1955.0    3.920593e-02\n",
      "1950.0    3.330124e-02\n",
      "1954.0    3.212606e-02\n",
      "1953.0    2.895772e-02\n",
      "1956.0    2.877192e-02\n",
      "              ...     \n",
      "1862.0    4.644977e-07\n",
      "1874.0    4.644977e-07\n",
      "1840.0    4.644977e-07\n",
      "1807.0    4.644977e-07\n",
      "1833.0    4.644977e-07\n",
      "Name: yearbuilt, Length: 154, dtype: float64\n",
      "---------------------------------\n",
      "\n",
      "345.72      172\n",
      "344.18       77\n",
      "343.52       75\n",
      "285.30       67\n",
      "49.18        46\n",
      "           ... \n",
      "13621.86      1\n",
      "13227.99      1\n",
      "5371.63       1\n",
      "9052.96       1\n",
      "19517.64      1\n",
      "Name: taxamount, Length: 918838, dtype: int64\n",
      "\n",
      "\n",
      "NaN         2.063299e-03\n",
      "345.72      7.989361e-05\n",
      "344.18      3.576633e-05\n",
      "343.52      3.483733e-05\n",
      "285.30      3.112135e-05\n",
      "                ...     \n",
      "7708.96     4.644977e-07\n",
      "12676.21    4.644977e-07\n",
      "744.83      4.644977e-07\n",
      "12324.12    4.644977e-07\n",
      "19517.64    4.644977e-07\n",
      "Name: taxamount, Length: 918839, dtype: float64\n",
      "---------------------------------\n",
      "\n",
      "6037.0    1431811\n",
      "6059.0     555077\n",
      "6111.0     165975\n",
      "Name: fips, dtype: int64\n",
      "\n",
      "\n",
      "6037.0    0.665073\n",
      "6059.0    0.257832\n",
      "6111.0    0.077095\n",
      "Name: fips, dtype: float64\n",
      "---------------------------------\n",
      "\n"
     ]
    }
   ],
   "source": []
  },
  {
   "cell_type": "code",
   "execution_count": 27,
   "id": "c27b71dc",
   "metadata": {
    "scrolled": true
   },
   "outputs": [
    {
     "data": {
      "text/plain": [
       "0    3.0\n",
       "dtype: float64"
      ]
     },
     "execution_count": 27,
     "metadata": {},
     "output_type": "execute_result"
    }
   ],
   "source": [
    "df.bedroomcnt.mode()"
   ]
  },
  {
   "cell_type": "code",
   "execution_count": 23,
   "id": "6de46c6c",
   "metadata": {},
   "outputs": [
    {
     "data": {
      "text/plain": [
       "3.0     964298\n",
       "4.0     634289\n",
       "2.0     335473\n",
       "5.0     150866\n",
       "6.0      25166\n",
       "1.0      23166\n",
       "0.0      13187\n",
       "7.0       4807\n",
       "8.0       1107\n",
       "9.0        291\n",
       "10.0       121\n",
       "11.0        34\n",
       "13.0        16\n",
       "12.0        12\n",
       "14.0         7\n",
       "15.0         6\n",
       "18.0         3\n",
       "16.0         2\n",
       "25.0         1\n",
       "Name: bedroomcnt, dtype: int64"
      ]
     },
     "execution_count": 23,
     "metadata": {},
     "output_type": "execute_result"
    }
   ],
   "source": [
    "df.bedroomcnt.value_counts()"
   ]
  },
  {
   "cell_type": "code",
   "execution_count": 28,
   "id": "17cfa916",
   "metadata": {
    "scrolled": true
   },
   "outputs": [
    {
     "data": {
      "text/plain": [
       "0    2.0\n",
       "dtype: float64"
      ]
     },
     "execution_count": 28,
     "metadata": {},
     "output_type": "execute_result"
    }
   ],
   "source": [
    "df.bathroomcnt.mode()"
   ]
  },
  {
   "cell_type": "code",
   "execution_count": 29,
   "id": "bbb3c68c",
   "metadata": {
    "scrolled": true
   },
   "outputs": [
    {
     "data": {
      "text/plain": [
       "1862.855177652831"
      ]
     },
     "execution_count": 29,
     "metadata": {},
     "output_type": "execute_result"
    }
   ],
   "source": [
    "df.calculatedfinishedsquarefeet.mean()"
   ]
  },
  {
   "cell_type": "code",
   "execution_count": 30,
   "id": "ad752f6f",
   "metadata": {},
   "outputs": [
    {
     "data": {
      "text/plain": [
       "0    1200.0\n",
       "dtype: float64"
      ]
     },
     "execution_count": 30,
     "metadata": {},
     "output_type": "execute_result"
    }
   ],
   "source": [
    "df.calculatedfinishedsquarefeet.mode()"
   ]
  },
  {
   "cell_type": "code",
   "execution_count": 31,
   "id": "07c31135",
   "metadata": {},
   "outputs": [
    {
     "data": {
      "text/plain": [
       "<AxesSubplot:>"
      ]
     },
     "execution_count": 31,
     "metadata": {},
     "output_type": "execute_result"
    },
    {
     "data": {
      "image/png": "[encoded data removed]",
      "text/plain": [
       "<Figure size 432x288 with 1 Axes>"
      ]
     },
     "metadata": {
      "needs_background": "light"
     },
     "output_type": "display_data"
    }
   ],
   "source": [
    "df.calculatedfinishedsquarefeet."
   ]
  },
  {
   "cell_type": "code",
   "execution_count": 24,
   "id": "b668d0dd",
   "metadata": {},
   "outputs": [
    {
     "data": {
      "text/plain": [
       "3.287196240150275"
      ]
     },
     "execution_count": 24,
     "metadata": {},
     "output_type": "execute_result"
    }
   ],
   "source": [
    "## Takeaways\n",
    "- 11 bedroom count nulls can be replaced by the mode of 3\n",
    "- 11 bathroom count nulls can be replaced with the mode of 3\n"
   ]
  },
  {
   "cell_type": "markdown",
   "id": "9a4ce090",
   "metadata": {},
   "source": [
    "3. Store all of the necessary functions to automate your process from acquiring the data to returning a cleaned dataframe witn no missing values in your `wrangle.py` file. Name your final function `wrangle_zillow`."
   ]
  },
  {
   "cell_type": "code",
   "execution_count": null,
   "id": "4224a161",
   "metadata": {},
   "outputs": [],
   "source": []
  }
 ],
 "metadata": {
  "kernelspec": {
   "display_name": "Python 3",
   "language": "python",
   "name": "python3"
  },
  "language_info": {
   "codemirror_mode": {
    "name": "ipython",
    "version": 3
   },
   "file_extension": ".py",
   "mimetype": "text/x-python",
   "name": "python",
   "nbconvert_exporter": "python",
   "pygments_lexer": "ipython3",
   "version": "3.8.8"
  }
 },
 "nbformat": 4,
 "nbformat_minor": 5
}
